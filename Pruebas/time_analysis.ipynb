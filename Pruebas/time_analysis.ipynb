{
 "cells": [
  {
   "cell_type": "code",
   "execution_count": 1,
   "metadata": {},
   "outputs": [],
   "source": [
    "import numpy as np\n",
    "import pandas as pd"
   ]
  },
  {
   "cell_type": "code",
   "execution_count": 2,
   "metadata": {},
   "outputs": [],
   "source": [
    "file = \"TimeAnalysis.xlsx\"\n",
    "df = pd.read_excel(file)"
   ]
  },
  {
   "cell_type": "code",
   "execution_count": 3,
   "metadata": {},
   "outputs": [
    {
     "data": {
      "text/html": [
       "<div>\n",
       "<style scoped>\n",
       "    .dataframe tbody tr th:only-of-type {\n",
       "        vertical-align: middle;\n",
       "    }\n",
       "\n",
       "    .dataframe tbody tr th {\n",
       "        vertical-align: top;\n",
       "    }\n",
       "\n",
       "    .dataframe thead th {\n",
       "        text-align: right;\n",
       "    }\n",
       "</style>\n",
       "<table border=\"1\" class=\"dataframe\">\n",
       "  <thead>\n",
       "    <tr style=\"text-align: right;\">\n",
       "      <th></th>\n",
       "      <th>Index</th>\n",
       "      <th>time_message_arrive_to_mcu</th>\n",
       "      <th>time_message_depart_from_app</th>\n",
       "      <th>delta_time</th>\n",
       "      <th>delta_time_ms</th>\n",
       "    </tr>\n",
       "  </thead>\n",
       "  <tbody>\n",
       "    <tr>\n",
       "      <th>0</th>\n",
       "      <td>0</td>\n",
       "      <td>2021-10-11 21:39:59.339</td>\n",
       "      <td>2021-10-11 21:39:58.332</td>\n",
       "      <td>00:00:01.007000</td>\n",
       "      <td>1007</td>\n",
       "    </tr>\n",
       "    <tr>\n",
       "      <th>1</th>\n",
       "      <td>1</td>\n",
       "      <td>2021-10-11 21:40:07.041</td>\n",
       "      <td>2021-10-11 21:40:06.036</td>\n",
       "      <td>00:00:01.005000</td>\n",
       "      <td>1005</td>\n",
       "    </tr>\n",
       "    <tr>\n",
       "      <th>2</th>\n",
       "      <td>2</td>\n",
       "      <td>2021-10-11 21:40:09.759</td>\n",
       "      <td>2021-10-11 21:40:08.768</td>\n",
       "      <td>00:00:00.991000</td>\n",
       "      <td>991</td>\n",
       "    </tr>\n",
       "    <tr>\n",
       "      <th>3</th>\n",
       "      <td>3</td>\n",
       "      <td>2021-10-11 21:40:12.830</td>\n",
       "      <td>2021-10-11 21:40:11.844</td>\n",
       "      <td>00:00:00.986000</td>\n",
       "      <td>986</td>\n",
       "    </tr>\n",
       "    <tr>\n",
       "      <th>4</th>\n",
       "      <td>4</td>\n",
       "      <td>2021-10-11 21:40:15.221</td>\n",
       "      <td>2021-10-11 21:40:14.211</td>\n",
       "      <td>00:00:01.010000</td>\n",
       "      <td>1010</td>\n",
       "    </tr>\n",
       "    <tr>\n",
       "      <th>5</th>\n",
       "      <td>5</td>\n",
       "      <td>2021-10-11 21:40:17.651</td>\n",
       "      <td>2021-10-11 21:40:16.661</td>\n",
       "      <td>00:00:00.990000</td>\n",
       "      <td>990</td>\n",
       "    </tr>\n",
       "    <tr>\n",
       "      <th>6</th>\n",
       "      <td>6</td>\n",
       "      <td>2021-10-11 21:40:20.247</td>\n",
       "      <td>2021-10-11 21:40:19.243</td>\n",
       "      <td>00:00:01.004000</td>\n",
       "      <td>1004</td>\n",
       "    </tr>\n",
       "    <tr>\n",
       "      <th>7</th>\n",
       "      <td>7</td>\n",
       "      <td>2021-10-11 21:40:22.315</td>\n",
       "      <td>2021-10-11 21:40:21.311</td>\n",
       "      <td>00:00:01.004000</td>\n",
       "      <td>1004</td>\n",
       "    </tr>\n",
       "    <tr>\n",
       "      <th>8</th>\n",
       "      <td>8</td>\n",
       "      <td>2021-10-11 21:40:24.609</td>\n",
       "      <td>2021-10-11 21:40:23.612</td>\n",
       "      <td>00:00:00.997000</td>\n",
       "      <td>997</td>\n",
       "    </tr>\n",
       "    <tr>\n",
       "      <th>9</th>\n",
       "      <td>9</td>\n",
       "      <td>2021-10-11 21:40:26.806</td>\n",
       "      <td>2021-10-11 21:40:25.816</td>\n",
       "      <td>00:00:00.990000</td>\n",
       "      <td>990</td>\n",
       "    </tr>\n",
       "  </tbody>\n",
       "</table>\n",
       "</div>"
      ],
      "text/plain": [
       "   Index time_message_arrive_to_mcu time_message_depart_from_app  \\\n",
       "0      0    2021-10-11 21:39:59.339      2021-10-11 21:39:58.332   \n",
       "1      1    2021-10-11 21:40:07.041      2021-10-11 21:40:06.036   \n",
       "2      2    2021-10-11 21:40:09.759      2021-10-11 21:40:08.768   \n",
       "3      3    2021-10-11 21:40:12.830      2021-10-11 21:40:11.844   \n",
       "4      4    2021-10-11 21:40:15.221      2021-10-11 21:40:14.211   \n",
       "5      5    2021-10-11 21:40:17.651      2021-10-11 21:40:16.661   \n",
       "6      6    2021-10-11 21:40:20.247      2021-10-11 21:40:19.243   \n",
       "7      7    2021-10-11 21:40:22.315      2021-10-11 21:40:21.311   \n",
       "8      8    2021-10-11 21:40:24.609      2021-10-11 21:40:23.612   \n",
       "9      9    2021-10-11 21:40:26.806      2021-10-11 21:40:25.816   \n",
       "\n",
       "        delta_time  delta_time_ms  \n",
       "0  00:00:01.007000           1007  \n",
       "1  00:00:01.005000           1005  \n",
       "2  00:00:00.991000            991  \n",
       "3  00:00:00.986000            986  \n",
       "4  00:00:01.010000           1010  \n",
       "5  00:00:00.990000            990  \n",
       "6  00:00:01.004000           1004  \n",
       "7  00:00:01.004000           1004  \n",
       "8  00:00:00.997000            997  \n",
       "9  00:00:00.990000            990  "
      ]
     },
     "execution_count": 3,
     "metadata": {},
     "output_type": "execute_result"
    }
   ],
   "source": [
    "df.head(10)"
   ]
  },
  {
   "cell_type": "code",
   "execution_count": 4,
   "metadata": {},
   "outputs": [
    {
     "data": {
      "text/plain": [
       "count      49.000000\n",
       "mean     1040.183673\n",
       "std       185.535450\n",
       "min       983.000000\n",
       "25%       992.000000\n",
       "50%      1000.000000\n",
       "75%      1005.000000\n",
       "max      2121.000000\n",
       "Name: delta_time_ms, dtype: float64"
      ]
     },
     "execution_count": 4,
     "metadata": {},
     "output_type": "execute_result"
    }
   ],
   "source": [
    "df[\"delta_time_ms\"].describe()"
   ]
  },
  {
   "cell_type": "code",
   "execution_count": 6,
   "metadata": {},
   "outputs": [
    {
     "data": {
      "text/plain": [
       "[<matplotlib.lines.Line2D at 0x1967cbc1520>]"
      ]
     },
     "execution_count": 6,
     "metadata": {},
     "output_type": "execute_result"
    },
    {
     "data": {
      "image/png": "[encoded data removed]",
      "text/plain": [
       "<Figure size 432x288 with 1 Axes>"
      ]
     },
     "metadata": {
      "needs_background": "light"
     },
     "output_type": "display_data"
    }
   ],
   "source": [
    "import matplotlib.pyplot as pl\n",
    "pl.xlabel(\"message index\")\n",
    "pl.ylabel(\"time (ms)\")\n",
    "pl.plot(df[\"delta_time_ms\"])"
   ]
  }
 ],
 "metadata": {
  "interpreter": {
   "hash": "ec7934806f8124376a90f0712981b6243830dfa2de1727f9a0d6b81d02b24f67"
  },
  "kernelspec": {
   "display_name": "Python 3.9.1 64-bit",
   "name": "python3"
  },
  "language_info": {
   "codemirror_mode": {
    "name": "ipython",
    "version": 3
   },
   "file_extension": ".py",
   "mimetype": "text/x-python",
   "name": "python",
   "nbconvert_exporter": "python",
   "pygments_lexer": "ipython3",
   "version": "3.9.1"
  },
  "orig_nbformat": 4
 },
 "nbformat": 4,
 "nbformat_minor": 2
}
